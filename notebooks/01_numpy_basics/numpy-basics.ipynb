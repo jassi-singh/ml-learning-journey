{
 "cells": [
  {
   "cell_type": "markdown",
   "id": "3fb79b32-13e8-4019-8da4-d100b8ebd56b",
   "metadata": {},
   "source": [
    "Import Numpy before use"
   ]
  },
  {
   "cell_type": "code",
   "execution_count": 1,
   "id": "7a0cced7-e8f8-44f2-bf1f-e3c822c4dce9",
   "metadata": {},
   "outputs": [],
   "source": [
    "import numpy as np"
   ]
  },
  {
   "cell_type": "markdown",
   "id": "870a2dfa-58f0-4f59-87f6-dcfefbb27e14",
   "metadata": {},
   "source": [
    "---\n",
    "\n",
    "create an array and use basic attributes.\n",
    "\n",
    "- Accessing the array.\n",
    "- dimension\n",
    "- shape\n",
    "- size (total number of entries)\n",
    "- data type of array\n"
   ]
  },
  {
   "cell_type": "code",
   "execution_count": 2,
   "id": "6278718c-0ce6-4402-a0e3-beae10515d56",
   "metadata": {},
   "outputs": [
    {
     "data": {
      "text/plain": [
       "array([[ 1.,  2.,  3.,  4.],\n",
       "       [ 5.,  6.,  7.,  8.],\n",
       "       [ 9., 10., 11., 12.]])"
      ]
     },
     "execution_count": 2,
     "metadata": {},
     "output_type": "execute_result"
    }
   ],
   "source": [
    "a = np.array([[1, 2., 3, 4], [5, 6, 7, 8], [9, 10, 11, 12]])\n",
    "a"
   ]
  },
  {
   "cell_type": "code",
   "execution_count": 3,
   "id": "92f70523-f1f8-4193-902e-04ae488594cb",
   "metadata": {},
   "outputs": [
    {
     "data": {
      "text/plain": [
       "np.float64(8.0)"
      ]
     },
     "execution_count": 3,
     "metadata": {},
     "output_type": "execute_result"
    }
   ],
   "source": [
    "a[1,3]"
   ]
  },
  {
   "cell_type": "code",
   "execution_count": 4,
   "id": "4a0dc99c-48d1-4cd3-80b9-89d47a529a2c",
   "metadata": {},
   "outputs": [
    {
     "data": {
      "text/plain": [
       "2"
      ]
     },
     "execution_count": 4,
     "metadata": {},
     "output_type": "execute_result"
    }
   ],
   "source": [
    "a.ndim"
   ]
  },
  {
   "cell_type": "code",
   "execution_count": 5,
   "id": "e366a064-4af0-47aa-a1ee-69eb0e6c6f8b",
   "metadata": {},
   "outputs": [
    {
     "data": {
      "text/plain": [
       "(3, 4)"
      ]
     },
     "execution_count": 5,
     "metadata": {},
     "output_type": "execute_result"
    }
   ],
   "source": [
    "a.shape"
   ]
  },
  {
   "cell_type": "code",
   "execution_count": 6,
   "id": "3f137e59-54a7-4c55-81f8-87fa1b35fce1",
   "metadata": {},
   "outputs": [
    {
     "data": {
      "text/plain": [
       "12"
      ]
     },
     "execution_count": 6,
     "metadata": {},
     "output_type": "execute_result"
    }
   ],
   "source": [
    "a.size"
   ]
  },
  {
   "cell_type": "code",
   "execution_count": 7,
   "id": "1443120d-4509-43d5-979d-4ddcc9da5ef7",
   "metadata": {},
   "outputs": [
    {
     "data": {
      "text/plain": [
       "dtype('float64')"
      ]
     },
     "execution_count": 7,
     "metadata": {},
     "output_type": "execute_result"
    }
   ],
   "source": [
    "a.dtype"
   ]
  },
  {
   "cell_type": "markdown",
   "id": "b587e638-1935-48e2-9199-852da03cde50",
   "metadata": {},
   "source": [
    "---\n",
    "Create a basic array use of `np.zeros` , `np.ones` , `np.empty`, `np.arange`"
   ]
  },
  {
   "cell_type": "code",
   "execution_count": 8,
   "id": "c68e579a-021a-4ab2-9552-a07359b72558",
   "metadata": {},
   "outputs": [
    {
     "data": {
      "text/plain": [
       "array([[0., 0., 0.],\n",
       "       [0., 0., 0.]])"
      ]
     },
     "execution_count": 8,
     "metadata": {},
     "output_type": "execute_result"
    }
   ],
   "source": [
    "np.zeros((2,3))"
   ]
  },
  {
   "cell_type": "code",
   "execution_count": 9,
   "id": "1ba68171-9b15-4bdd-bae4-bb4e08ef7111",
   "metadata": {},
   "outputs": [
    {
     "data": {
      "text/plain": [
       "array([[[1., 1., 1., 1., 1.],\n",
       "        [1., 1., 1., 1., 1.]],\n",
       "\n",
       "       [[1., 1., 1., 1., 1.],\n",
       "        [1., 1., 1., 1., 1.]]])"
      ]
     },
     "execution_count": 9,
     "metadata": {},
     "output_type": "execute_result"
    }
   ],
   "source": [
    "np.ones((2,2,5))"
   ]
  },
  {
   "cell_type": "code",
   "execution_count": 10,
   "id": "de1a65db-9c0e-48c1-bcdd-8eb9e24c797d",
   "metadata": {},
   "outputs": [
    {
     "data": {
      "text/plain": [
       "array([[0., 0., 0., 0., 0.],\n",
       "       [0., 0., 0., 0., 0.]])"
      ]
     },
     "execution_count": 10,
     "metadata": {},
     "output_type": "execute_result"
    }
   ],
   "source": [
    "np.empty((2,5))"
   ]
  },
  {
   "cell_type": "code",
   "execution_count": 11,
   "id": "ffd5ec59-4d1d-4ecf-8b53-780f39c98a9f",
   "metadata": {},
   "outputs": [
    {
     "data": {
      "text/plain": [
       "array([0, 1, 2, 3])"
      ]
     },
     "execution_count": 11,
     "metadata": {},
     "output_type": "execute_result"
    }
   ],
   "source": [
    "np.arange(4)"
   ]
  },
  {
   "cell_type": "code",
   "execution_count": 12,
   "id": "313e1d51-4ccc-48de-9deb-a806a72d2b65",
   "metadata": {},
   "outputs": [
    {
     "data": {
      "text/plain": [
       "array([ 4,  7, 10])"
      ]
     },
     "execution_count": 12,
     "metadata": {},
     "output_type": "execute_result"
    }
   ],
   "source": [
    "np.arange(4,11,3)"
   ]
  },
  {
   "cell_type": "code",
   "execution_count": 13,
   "id": "a7cee65e-51b9-47eb-93a9-2259bec942d0",
   "metadata": {},
   "outputs": [
    {
     "data": {
      "text/plain": [
       "array([ 3.   ,  4.125,  5.25 ,  6.375,  7.5  ,  8.625,  9.75 , 10.875,\n",
       "       12.   ])"
      ]
     },
     "execution_count": 13,
     "metadata": {},
     "output_type": "execute_result"
    }
   ],
   "source": [
    "np.linspace(3,12,num=9)"
   ]
  },
  {
   "cell_type": "code",
   "execution_count": 14,
   "id": "e9ed83cc-ab66-42df-bf2d-71d8bb257a3f",
   "metadata": {},
   "outputs": [
    {
     "data": {
      "text/plain": [
       "array([1, 1, 1, 1, 1], dtype=int32)"
      ]
     },
     "execution_count": 14,
     "metadata": {},
     "output_type": "execute_result"
    }
   ],
   "source": [
    "np.ones(5,dtype=np.int32)"
   ]
  },
  {
   "cell_type": "code",
   "execution_count": 15,
   "id": "96779c68-9e69-4b1a-adbb-85fa3dbea2b5",
   "metadata": {},
   "outputs": [
    {
     "data": {
      "text/plain": [
       "array([2, 2, 2, 2])"
      ]
     },
     "execution_count": 15,
     "metadata": {},
     "output_type": "execute_result"
    }
   ],
   "source": [
    "np.full(4,2)"
   ]
  },
  {
   "cell_type": "code",
   "execution_count": 16,
   "id": "e21b2bcc-5bdc-481f-b6c6-aa2fa83911aa",
   "metadata": {},
   "outputs": [
    {
     "data": {
      "text/plain": [
       "array([[12, 12, 12, 12],\n",
       "       [12, 12, 12, 12]])"
      ]
     },
     "execution_count": 16,
     "metadata": {},
     "output_type": "execute_result"
    }
   ],
   "source": [
    "np.full((2,4),12)"
   ]
  },
  {
   "cell_type": "markdown",
   "id": "4101e01c-e462-4d2d-812d-8fa8906e110f",
   "metadata": {},
   "source": [
    "---\n",
    "\n",
    "## Basic array operations"
   ]
  },
  {
   "cell_type": "code",
   "execution_count": 24,
   "id": "505a479e-1c4e-4054-821f-045ad48917c1",
   "metadata": {},
   "outputs": [
    {
     "name": "stdout",
     "output_type": "stream",
     "text": [
      "array a : \n",
      "[[2 5]\n",
      " [4 1]\n",
      " [1 2]]\n",
      "array b : \n",
      "[[1. 1.]\n",
      " [1. 1.]\n",
      " [1. 1.]]\n"
     ]
    }
   ],
   "source": [
    "a = np.array([[2,5],[4,1],[1,2]])\n",
    "b = np.ones((3,2))\n",
    "print(\"array a : \")\n",
    "print(a)\n",
    "print(\"array b : \")\n",
    "print(b)"
   ]
  },
  {
   "cell_type": "code",
   "execution_count": 25,
   "id": "4f7ce485-fce8-45ea-bf50-38659ca92cd2",
   "metadata": {},
   "outputs": [
    {
     "data": {
      "text/plain": [
       "array([[3., 6.],\n",
       "       [5., 2.],\n",
       "       [2., 3.]])"
      ]
     },
     "execution_count": 25,
     "metadata": {},
     "output_type": "execute_result"
    }
   ],
   "source": [
    "a + b"
   ]
  },
  {
   "cell_type": "code",
   "execution_count": 26,
   "id": "372107ab-d3be-4a45-84f9-daad91486aa6",
   "metadata": {},
   "outputs": [
    {
     "data": {
      "text/plain": [
       "array([[1., 4.],\n",
       "       [3., 0.],\n",
       "       [0., 1.]])"
      ]
     },
     "execution_count": 26,
     "metadata": {},
     "output_type": "execute_result"
    }
   ],
   "source": [
    "a - b"
   ]
  },
  {
   "cell_type": "code",
   "execution_count": 28,
   "id": "69258968-03aa-45a3-ad7b-3d881babfc8a",
   "metadata": {},
   "outputs": [
    {
     "data": {
      "text/plain": [
       "array([[ 4, 25],\n",
       "       [16,  1],\n",
       "       [ 1,  4]])"
      ]
     },
     "execution_count": 28,
     "metadata": {},
     "output_type": "execute_result"
    }
   ],
   "source": [
    "a * a"
   ]
  },
  {
   "cell_type": "code",
   "execution_count": 29,
   "id": "40328a5b-ccc6-4b3c-8a3c-fd860dd6cd05",
   "metadata": {},
   "outputs": [
    {
     "data": {
      "text/plain": [
       "array([[1., 1.],\n",
       "       [1., 1.],\n",
       "       [1., 1.]])"
      ]
     },
     "execution_count": 29,
     "metadata": {},
     "output_type": "execute_result"
    }
   ],
   "source": [
    "a/a"
   ]
  },
  {
   "cell_type": "code",
   "execution_count": 30,
   "id": "ed1b8be4-c7a9-4087-b75c-f0f54e7bce92",
   "metadata": {},
   "outputs": [
    {
     "data": {
      "text/plain": [
       "np.int64(15)"
      ]
     },
     "execution_count": 30,
     "metadata": {},
     "output_type": "execute_result"
    }
   ],
   "source": [
    "a.sum()"
   ]
  },
  {
   "cell_type": "code",
   "execution_count": 31,
   "id": "a8ded124-b1a4-4628-ac3a-f5aa20af3aed",
   "metadata": {},
   "outputs": [
    {
     "data": {
      "text/plain": [
       "array([7, 8])"
      ]
     },
     "execution_count": 31,
     "metadata": {},
     "output_type": "execute_result"
    }
   ],
   "source": [
    "a.sum(axis=0)"
   ]
  },
  {
   "cell_type": "code",
   "execution_count": 32,
   "id": "43db93e5-54fa-4853-910f-b16ddf18fc43",
   "metadata": {},
   "outputs": [
    {
     "data": {
      "text/plain": [
       "array([7, 5, 3])"
      ]
     },
     "execution_count": 32,
     "metadata": {},
     "output_type": "execute_result"
    }
   ],
   "source": [
    "a.sum(axis=1)"
   ]
  },
  {
   "cell_type": "markdown",
   "id": "c72e2752-13c5-4fc1-b95b-6432013c7157",
   "metadata": {},
   "source": [
    "---\n",
    "\n",
    "### Broadcasting\n"
   ]
  },
  {
   "cell_type": "code",
   "execution_count": 34,
   "id": "d03f8743-8335-4d47-bb2b-09019d0fec73",
   "metadata": {},
   "outputs": [],
   "source": [
    "data = np.array([1,2])"
   ]
  },
  {
   "cell_type": "code",
   "execution_count": 35,
   "id": "1ae7dcda-9a76-4977-9461-f71da226f35d",
   "metadata": {},
   "outputs": [
    {
     "data": {
      "text/plain": [
       "array([1.6, 3.2])"
      ]
     },
     "execution_count": 35,
     "metadata": {},
     "output_type": "execute_result"
    }
   ],
   "source": [
    "data * 1.6"
   ]
  },
  {
   "cell_type": "code",
   "execution_count": 50,
   "id": "03f0db7b-4f29-4843-aa92-10a400c7147a",
   "metadata": {},
   "outputs": [
    {
     "data": {
      "text/plain": [
       "array([[1.],\n",
       "       [2.],\n",
       "       [3.],\n",
       "       [4.]])"
      ]
     },
     "execution_count": 50,
     "metadata": {},
     "output_type": "execute_result"
    }
   ],
   "source": [
    "a = np.array([[ 0.0,  0.0,  0.0],\n",
    "              [10.0, 10.0, 10.0],\n",
    "              [20.0, 20.0, 20.0],\n",
    "              [30.0, 30.0, 30.0]])\n",
    "b = np.array([1.0, 2.0,3.0,4.0])\n",
    "\n",
    "b = b[:,np.newaxis]\n",
    "b"
   ]
  },
  {
   "cell_type": "code",
   "execution_count": 51,
   "id": "c935493e-bdfc-400e-9fe6-1ed54eb524fb",
   "metadata": {},
   "outputs": [
    {
     "data": {
      "text/plain": [
       "array([[ 1.,  1.,  1.],\n",
       "       [12., 12., 12.],\n",
       "       [23., 23., 23.],\n",
       "       [34., 34., 34.]])"
      ]
     },
     "execution_count": 51,
     "metadata": {},
     "output_type": "execute_result"
    }
   ],
   "source": [
    "a + b"
   ]
  },
  {
   "cell_type": "markdown",
   "id": "869b0f39-c96f-464d-8d38-5ce7d37b52e8",
   "metadata": {},
   "source": [
    "---\n",
    "here we are trying to find in which category this particulr athelet fits in"
   ]
  },
  {
   "cell_type": "code",
   "execution_count": 97,
   "id": "0badd389-49e1-4246-a1e9-7541124df5ee",
   "metadata": {},
   "outputs": [],
   "source": [
    "# here observation has height and weight for a singly athlete and codes have for different type of athletes\n",
    "observation = np.array([111.0, 188.0])\n",
    "codes = np.array([[102.0, 203.0],\n",
    "               [132.0, 193.0],\n",
    "               [45.0, 155.0],\n",
    "               [57.0, 173.0]])"
   ]
  },
  {
   "cell_type": "code",
   "execution_count": 98,
   "id": "de8358e9-f187-4994-a9f3-c8e98246a948",
   "metadata": {},
   "outputs": [
    {
     "name": "stdout",
     "output_type": "stream",
     "text": [
      "[[ -9.  15.]\n",
      " [ 21.   5.]\n",
      " [-66. -33.]\n",
      " [-54. -15.]]\n"
     ]
    },
    {
     "data": {
      "text/plain": [
       "array([17.49285568, 21.58703314, 73.79024326, 56.04462508])"
      ]
     },
     "execution_count": 98,
     "metadata": {},
     "output_type": "execute_result"
    }
   ],
   "source": [
    "# we have to find the which type this athlete is nearest.\n",
    "diff = codes - observation\n",
    "print(diff)\n",
    "dist = np.sqrt(np.sum(diff**2,axis=-1))\n",
    "dist"
   ]
  },
  {
   "cell_type": "code",
   "execution_count": 99,
   "id": "91d90f37-ab86-4986-9728-b1769bb96da8",
   "metadata": {},
   "outputs": [
    {
     "data": {
      "text/plain": [
       "np.int64(0)"
      ]
     },
     "execution_count": 99,
     "metadata": {},
     "output_type": "execute_result"
    }
   ],
   "source": [
    "np.argmin(dist)"
   ]
  },
  {
   "cell_type": "markdown",
   "id": "bb51bc37-ad19-4c2e-968a-71d8110869d4",
   "metadata": {},
   "source": [
    "what if we use multiple observations, due to mismatch at index 1 from right ( 4 and 2 ) in shapes we cant broadcast it"
   ]
  },
  {
   "cell_type": "code",
   "execution_count": 100,
   "id": "aad4c0a0-8555-44e2-9f92-bb1d5cb6c493",
   "metadata": {},
   "outputs": [],
   "source": [
    "observations = np.array([[111.0, 188.0],[120,134]]) # shape : 2,2\n",
    "codes = np.array([[102.0, 203.0],\n",
    "               [132.0, 193.0],\n",
    "               [45.0, 155.0],\n",
    "               [57.0, 173.0]]) # shape : 4,2"
   ]
  },
  {
   "cell_type": "code",
   "execution_count": 101,
   "id": "dad58547-f73a-4c1b-860f-6124e3560343",
   "metadata": {},
   "outputs": [
    {
     "ename": "ValueError",
     "evalue": "operands could not be broadcast together with shapes (4,2) (2,2) ",
     "output_type": "error",
     "traceback": [
      "\u001b[31m---------------------------------------------------------------------------\u001b[39m",
      "\u001b[31mValueError\u001b[39m                                Traceback (most recent call last)",
      "\u001b[36mCell\u001b[39m\u001b[36m \u001b[39m\u001b[32mIn[101]\u001b[39m\u001b[32m, line 1\u001b[39m\n\u001b[32m----> \u001b[39m\u001b[32m1\u001b[39m diff = \u001b[43mcodes\u001b[49m\u001b[43m \u001b[49m\u001b[43m-\u001b[49m\u001b[43m \u001b[49m\u001b[43mobservations\u001b[49m\n\u001b[32m      2\u001b[39m \u001b[38;5;66;03m# this will end in an error\u001b[39;00m\n",
      "\u001b[31mValueError\u001b[39m: operands could not be broadcast together with shapes (4,2) (2,2) "
     ]
    }
   ],
   "source": [
    "diff = codes - observations\n",
    "# this will end in an error"
   ]
  },
  {
   "cell_type": "markdown",
   "id": "a9d3d2f5-115e-4f44-ba32-0e010d8d1394",
   "metadata": {},
   "source": [
    "To solve this we can use broadcasting on codes"
   ]
  },
  {
   "cell_type": "code",
   "execution_count": 102,
   "id": "69b9853f-ced8-4252-b3db-7cdde0e1faf9",
   "metadata": {},
   "outputs": [
    {
     "name": "stdout",
     "output_type": "stream",
     "text": [
      "[[[ -9.  15.]\n",
      "  [-18.  69.]]\n",
      "\n",
      " [[ 21.   5.]\n",
      "  [ 12.  59.]]\n",
      "\n",
      " [[-66. -33.]\n",
      "  [-75.  21.]]\n",
      "\n",
      " [[-54. -15.]\n",
      "  [-63.  39.]]]\n",
      "(4, 2, 2)\n"
     ]
    },
    {
     "data": {
      "text/plain": [
       "array([[17.49285568, 71.30918594],\n",
       "       [21.58703314, 60.20797289],\n",
       "       [73.79024326, 77.88452991],\n",
       "       [56.04462508, 74.09453421]])"
      ]
     },
     "execution_count": 102,
     "metadata": {},
     "output_type": "execute_result"
    }
   ],
   "source": [
    "diff = codes[:,np.newaxis,:] - observations\n",
    "print(diff)\n",
    "print(diff.shape)\n",
    "dist = np.sqrt(np.sum(diff**2,axis=-1))\n",
    "dist"
   ]
  },
  {
   "cell_type": "code",
   "execution_count": 107,
   "id": "85e07753-039f-40e1-bf21-697ddda4f652",
   "metadata": {},
   "outputs": [
    {
     "data": {
      "text/plain": [
       "array([0, 1])"
      ]
     },
     "execution_count": 107,
     "metadata": {},
     "output_type": "execute_result"
    }
   ],
   "source": [
    "np.argmin(dist,axis=0)"
   ]
  },
  {
   "cell_type": "markdown",
   "id": "73baa99f-45a1-423e-8265-50f666cf60f5",
   "metadata": {},
   "source": [
    "But this operation creates a temp array of 4,2,2 shape which is memory inefficient on large datasets we can solve this by using for loop as well this will be slower then numpy `c` operations but efficient in terms of memory."
   ]
  },
  {
   "cell_type": "code",
   "execution_count": 108,
   "id": "11d33598-3945-4428-88f7-0b50d1367013",
   "metadata": {},
   "outputs": [],
   "source": [
    "ls = list()\n",
    "for obs in observations:\n",
    "    diff = codes - obs\n",
    "    dist = np.sqrt(np.sum(diff**2, axis=-1))\n",
    "    ls.append(dist)\n",
    "ls = np.array(ls)"
   ]
  },
  {
   "cell_type": "code",
   "execution_count": 109,
   "id": "8162f268-7eb4-4d6f-abd7-99d3f4371a86",
   "metadata": {},
   "outputs": [
    {
     "data": {
      "text/plain": [
       "array([[17.49285568, 21.58703314, 73.79024326, 56.04462508],\n",
       "       [71.30918594, 60.20797289, 77.88452991, 74.09453421]])"
      ]
     },
     "execution_count": 109,
     "metadata": {},
     "output_type": "execute_result"
    }
   ],
   "source": [
    "ls"
   ]
  },
  {
   "cell_type": "code",
   "execution_count": 113,
   "id": "244b8b7f-06be-4e69-9776-cdcaab0feb4d",
   "metadata": {},
   "outputs": [
    {
     "data": {
      "text/plain": [
       "array([0, 1])"
      ]
     },
     "execution_count": 113,
     "metadata": {},
     "output_type": "execute_result"
    }
   ],
   "source": [
    "np.argmin(ls,axis=1)"
   ]
  },
  {
   "cell_type": "code",
   "execution_count": null,
   "id": "69779120-babc-4e28-ba60-2a65cb5b12a6",
   "metadata": {},
   "outputs": [],
   "source": []
  }
 ],
 "metadata": {
  "kernelspec": {
   "display_name": "ai_journey",
   "language": "python",
   "name": "python3"
  },
  "language_info": {
   "codemirror_mode": {
    "name": "ipython",
    "version": 3
   },
   "file_extension": ".py",
   "mimetype": "text/x-python",
   "name": "python",
   "nbconvert_exporter": "python",
   "pygments_lexer": "ipython3",
   "version": "3.12.11"
  }
 },
 "nbformat": 4,
 "nbformat_minor": 5
}
